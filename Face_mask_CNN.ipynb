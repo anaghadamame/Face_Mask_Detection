{
  "nbformat": 4,
  "nbformat_minor": 0,
  "metadata": {
    "colab": {
      "name": "Face_mask_CNN.ipynb",
      "provenance": [],
      "mount_file_id": "1guQeXGm_-elSHYfYkHuIe2w22Arwj1IP",
      "authorship_tag": "ABX9TyNfYIdkjubfhCJqbpR1xLTp",
      "include_colab_link": true
    },
    "kernelspec": {
      "name": "python3",
      "display_name": "Python 3"
    }
  },
  "cells": [
    {
      "cell_type": "markdown",
      "metadata": {
        "id": "view-in-github",
        "colab_type": "text"
      },
      "source": [
        "<a href=\"https://colab.research.google.com/github/anaghadamame/Face_Mask_Detection/blob/main/Face_mask_CNN.ipynb\" target=\"_parent\"><img src=\"https://colab.research.google.com/assets/colab-badge.svg\" alt=\"Open In Colab\"/></a>"
      ]
    },
    {
      "cell_type": "code",
      "metadata": {
        "id": "CaG9gxCUaJQT"
      },
      "source": [
        "import zipfile\n",
        "with zipfile.ZipFile(\"/content/drive/MyDrive/dataset-FaceMask.zip\",'r') as f:\n",
        "  f.extractall(' ')"
      ],
      "execution_count": 1,
      "outputs": []
    },
    {
      "cell_type": "code",
      "metadata": {
        "id": "UOPR--jdbbjP"
      },
      "source": [
        "import os"
      ],
      "execution_count": 24,
      "outputs": []
    },
    {
      "cell_type": "code",
      "metadata": {
        "colab": {
          "base_uri": "https://localhost:8080/"
        },
        "id": "ufckl0UTbtoG",
        "outputId": "b8007355-3193-4c7a-8941-fe18a1c0fe85"
      },
      "source": [
        "img_name=os.listdir('/content/ /dataset/without mask')#without mask 0\n",
        "len(img_name)"
      ],
      "execution_count": 3,
      "outputs": [
        {
          "output_type": "execute_result",
          "data": {
            "text/plain": [
              "686"
            ]
          },
          "metadata": {
            "tags": []
          },
          "execution_count": 3
        }
      ]
    },
    {
      "cell_type": "code",
      "metadata": {
        "id": "VrhBQkxIceQ7"
      },
      "source": [
        "x_train=[]\n",
        "y_train=[]\n",
        "for i in range(len(img_name)):\n",
        "  try:\n",
        "    img=cv2.imread('/content/ /dataset/without mask/'+img_name[i],0)\n",
        "    img=cv2.resize(img,(150,150))\n",
        "    x_train.append(img)\n",
        "    y_train.append(0)\n",
        "  except:\n",
        "    pass"
      ],
      "execution_count": 4,
      "outputs": []
    },
    {
      "cell_type": "code",
      "metadata": {
        "colab": {
          "base_uri": "https://localhost:8080/"
        },
        "id": "w8guiBmvcqVD",
        "outputId": "7e7eb626-2cf9-4e1a-8712-cd0ad60bc4d2"
      },
      "source": [
        "img_name=os.listdir('/content/ /dataset/with mask')#with mask 1\n",
        "len(img_name)"
      ],
      "execution_count": 5,
      "outputs": [
        {
          "output_type": "execute_result",
          "data": {
            "text/plain": [
              "690"
            ]
          },
          "metadata": {
            "tags": []
          },
          "execution_count": 5
        }
      ]
    },
    {
      "cell_type": "code",
      "metadata": {
        "id": "3USf3mHkc3mT"
      },
      "source": [
        "for i in range(len(img_name)):\n",
        "  try:\n",
        "    img=cv2.imread('/content/ /dataset/with mask/'+img_name[i],0)\n",
        "    img=cv2.resize(img,(150,150))\n",
        "    x_train.append(img)\n",
        "    y_train.append(1)\n",
        "  except:\n",
        "    pass"
      ],
      "execution_count": 6,
      "outputs": []
    },
    {
      "cell_type": "code",
      "metadata": {
        "colab": {
          "base_uri": "https://localhost:8080/"
        },
        "id": "nqN0TO-CdK7D",
        "outputId": "461c1da4-6539-41fa-ef0a-aa4cdcbc2112"
      },
      "source": [
        "len(x_train)"
      ],
      "execution_count": null,
      "outputs": [
        {
          "output_type": "execute_result",
          "data": {
            "text/plain": [
              "1376"
            ]
          },
          "metadata": {
            "tags": []
          },
          "execution_count": 7
        }
      ]
    },
    {
      "cell_type": "code",
      "metadata": {
        "id": "g06UyLHkgrWO"
      },
      "source": [
        "from sklearn.model_selection import train_test_split"
      ],
      "execution_count": 7,
      "outputs": []
    },
    {
      "cell_type": "code",
      "metadata": {
        "id": "y0s-jzUWdy1q"
      },
      "source": [
        "x_train,x_test,y_train,y_test = train_test_split(x_train,y_train,test_size=0.2,random_state=42)"
      ],
      "execution_count": 8,
      "outputs": []
    },
    {
      "cell_type": "code",
      "metadata": {
        "id": "xwBqOoXzeWWD"
      },
      "source": [
        "import numpy as np\n",
        "x_train =np.array(x_train)\n",
        "y_train=np.array(y_train)\n",
        "x_test=np.array(x_test)\n",
        "y_test=np.array(y_test)"
      ],
      "execution_count": 9,
      "outputs": []
    },
    {
      "cell_type": "code",
      "metadata": {
        "colab": {
          "base_uri": "https://localhost:8080/"
        },
        "id": "D1QXGccXli-w",
        "outputId": "ca7c27ff-e5ed-43c7-f58c-ed618e277ac5"
      },
      "source": [
        "x_train =x_train/255\n",
        "x_test=x_test/255\n",
        "x_test.shape"
      ],
      "execution_count": 10,
      "outputs": [
        {
          "output_type": "execute_result",
          "data": {
            "text/plain": [
              "(276, 150, 150)"
            ]
          },
          "metadata": {
            "tags": []
          },
          "execution_count": 10
        }
      ]
    },
    {
      "cell_type": "code",
      "metadata": {
        "colab": {
          "base_uri": "https://localhost:8080/"
        },
        "id": "pePPY03FlmAB",
        "outputId": "49fade7b-6d68-4bbe-9792-9c1b1558b9a2"
      },
      "source": [
        "x_train=x_train.reshape(x_train.shape[0],x_train.shape[1],x_train.shape[2],1)\n",
        "x_test=x_test.reshape(x_test.shape[0],x_test.shape[1],x_test.shape[2],1)\n",
        "x_test.shape"
      ],
      "execution_count": 11,
      "outputs": [
        {
          "output_type": "execute_result",
          "data": {
            "text/plain": [
              "(276, 150, 150, 1)"
            ]
          },
          "metadata": {
            "tags": []
          },
          "execution_count": 11
        }
      ]
    },
    {
      "cell_type": "code",
      "metadata": {
        "id": "E0IsoGXYlp4k"
      },
      "source": [
        "from tensorflow.keras.models import Sequential\n",
        "from tensorflow.keras.layers import Dense, Dropout, Conv2D, MaxPooling2D, Flatten"
      ],
      "execution_count": 12,
      "outputs": []
    },
    {
      "cell_type": "code",
      "metadata": {
        "id": "jj_kiOtal0HI"
      },
      "source": [
        "model = Sequential()\n",
        "model.add(Conv2D(16,(4,4),activation='relu',input_shape=(150,150,1)))\n",
        "model.add(MaxPooling2D())\n",
        "model.add(Conv2D(16,(4,4),activation='relu'))\n",
        "model.add(MaxPooling2D())\n",
        "model.add(Flatten())\n",
        "model.add(Dense(16,activation='relu'))\n",
        "model.add(Dense(1,activation='sigmoid'))"
      ],
      "execution_count": 13,
      "outputs": []
    },
    {
      "cell_type": "code",
      "metadata": {
        "id": "EcMsdfDYl_8d"
      },
      "source": [
        "model.compile(loss='binary_crossentropy',metrics=['accuracy'])"
      ],
      "execution_count": 25,
      "outputs": []
    },
    {
      "cell_type": "code",
      "metadata": {
        "colab": {
          "base_uri": "https://localhost:8080/"
        },
        "id": "p4dLX-Csted_",
        "outputId": "a7f8033a-2583-488f-c2de-de65f0e7eedc"
      },
      "source": [
        "model.fit(x_train,y_train,epochs=10,batch_size=100)"
      ],
      "execution_count": 26,
      "outputs": [
        {
          "output_type": "stream",
          "text": [
            "Epoch 1/10\n",
            "11/11 [==============================] - 15s 1s/step - loss: 0.7595 - accuracy: 0.5282\n",
            "Epoch 2/10\n",
            "11/11 [==============================] - 15s 1s/step - loss: 0.6699 - accuracy: 0.6200\n",
            "Epoch 3/10\n",
            "11/11 [==============================] - 15s 1s/step - loss: 0.6502 - accuracy: 0.6709\n",
            "Epoch 4/10\n",
            "11/11 [==============================] - 15s 1s/step - loss: 0.5258 - accuracy: 0.7609\n",
            "Epoch 5/10\n",
            "11/11 [==============================] - 15s 1s/step - loss: 0.4473 - accuracy: 0.8082\n",
            "Epoch 6/10\n",
            "11/11 [==============================] - 15s 1s/step - loss: 0.4699 - accuracy: 0.7936\n",
            "Epoch 7/10\n",
            "11/11 [==============================] - 15s 1s/step - loss: 0.3663 - accuracy: 0.8400\n",
            "Epoch 8/10\n",
            "11/11 [==============================] - 15s 1s/step - loss: 0.3587 - accuracy: 0.8627\n",
            "Epoch 9/10\n",
            "11/11 [==============================] - 15s 1s/step - loss: 0.3006 - accuracy: 0.8718\n",
            "Epoch 10/10\n",
            "11/11 [==============================] - 15s 1s/step - loss: 0.2774 - accuracy: 0.8909\n"
          ],
          "name": "stdout"
        },
        {
          "output_type": "execute_result",
          "data": {
            "text/plain": [
              "<tensorflow.python.keras.callbacks.History at 0x7fb9d7ff7080>"
            ]
          },
          "metadata": {
            "tags": []
          },
          "execution_count": 26
        }
      ]
    },
    {
      "cell_type": "code",
      "metadata": {
        "id": "tjhrIoPVOvEh"
      },
      "source": [
        "model.save('model1.h5')"
      ],
      "execution_count": null,
      "outputs": []
    }
  ]
}
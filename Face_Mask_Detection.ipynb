{
 "cells": [
  {
   "cell_type": "code",
   "execution_count": null,
   "metadata": {},
   "outputs": [],
   "source": [
    "#!pip install --upgrade tensorflow\n",
    "#pip install --ignore-installed --upgrade --user tensorflow"
   ]
  },
  {
   "cell_type": "code",
   "execution_count": 1,
   "metadata": {},
   "outputs": [],
   "source": [
    "import cv2\n",
    "import numpy as np"
   ]
  },
  {
   "cell_type": "code",
   "execution_count": 2,
   "metadata": {},
   "outputs": [],
   "source": [
    "from tensorflow.keras.models import load_model"
   ]
  },
  {
   "cell_type": "code",
   "execution_count": 3,
   "metadata": {},
   "outputs": [],
   "source": [
    "model = load_model(\"model1.h5\")"
   ]
  },
  {
   "cell_type": "code",
   "execution_count": 4,
   "metadata": {},
   "outputs": [],
   "source": [
    "face_clsfr = cv2.CascadeClassifier('haarcascade_frontalface_alt.xml')\n",
    "labels_dict = {0:'NO_MASK',1:'MASK'}\n",
    "color_dict = {0:(0,0,255),1:(0,255,0)}\n",
    "IMG_SIZE = 150"
   ]
  },
  {
   "cell_type": "code",
   "execution_count": 14,
   "metadata": {},
   "outputs": [],
   "source": [
    "#setting the source as webcam\n",
    "cap = cv2.VideoCapture(0)\n",
    "while(True):\n",
    "    #reading the image frames\n",
    "    ret,img = cap.read()\n",
    "    #converting to grayscale images\n",
    "    gray = cv2.cvtColor(img,cv2.COLOR_BGR2GRAY)\n",
    "    #multiple faces\n",
    "    faces = face_clsfr.detectMultiScale(gray,1.1,5)  \n",
    "    for (x,y,w,h) in faces:\n",
    "        #region of interest\n",
    "        roi = gray[y:y+w,x:x+w]\n",
    "        #resize the image to specified dimension\n",
    "        roi_resized = cv2.resize(roi,(IMG_SIZE,IMG_SIZE))\n",
    "        #normalize\n",
    "        roi_normalized = roi_resized/255\n",
    "        #converting into a batch of 1 image\n",
    "        roi_reshaped = np.reshape(roi_normalized,(1,IMG_SIZE,IMG_SIZE,1))\n",
    "        #model prediction\n",
    "        result = model.predict(roi_reshaped)\n",
    "        #getting the label\n",
    "        label = int(np.round(result[0][0]))\n",
    "        #drawing the rectangle around the faces\n",
    "        cv2.rectangle(img,(x,y),(x+w,y+h),color_dict[label],2)\n",
    "        #drawing one more rectangle for giving title\n",
    "        cv2.rectangle(img,(x,y-40),(x+w,y),color_dict[label],-1)\n",
    "        #mask or no mask text\n",
    "        cv2.putText(img, labels_dict[label], (x, y-10),cv2.FONT_HERSHEY_SIMPLEX,0.8,(255,255,255),2)\n",
    "\n",
    "    cv2.imshow('LIVE',img)\n",
    "    if cv2.waitKey(1)==ord('q'):\n",
    "        break\n",
    "#destroy all the windows\n",
    "cv2.destroyAllWindows()\n",
    "cap.release()"
   ]
  },
  {
   "cell_type": "code",
   "execution_count": 13,
   "metadata": {},
   "outputs": [
    {
     "data": {
      "text/plain": [
       "numpy.ndarray"
      ]
     },
     "execution_count": 13,
     "metadata": {},
     "output_type": "execute_result"
    }
   ],
   "source": [
    "type(result)"
   ]
  },
  {
   "cell_type": "code",
   "execution_count": null,
   "metadata": {},
   "outputs": [],
   "source": []
  }
 ],
 "metadata": {
  "kernelspec": {
   "display_name": "Python 3",
   "language": "python",
   "name": "python3"
  },
  "language_info": {
   "codemirror_mode": {
    "name": "ipython",
    "version": 3
   },
   "file_extension": ".py",
   "mimetype": "text/x-python",
   "name": "python",
   "nbconvert_exporter": "python",
   "pygments_lexer": "ipython3",
   "version": "3.8.5"
  }
 },
 "nbformat": 4,
 "nbformat_minor": 4
}
